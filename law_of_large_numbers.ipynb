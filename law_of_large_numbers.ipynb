{
 "cells": [
  {
   "cell_type": "markdown",
   "id": "69773d08",
   "metadata": {},
   "source": [
    "# The Law of Large Numbers (LLN)"
   ]
  },
  {
   "cell_type": "markdown",
   "id": "a61fc41f",
   "metadata": {},
   "source": [
    "🧑🏻‍🏫 What is the LLN ? According to [Wikipedia](https://en.wikipedia.org/wiki/Law_of_large_numbers)\n",
    "\n",
    "> This theorem is a fundamental result in probability theory. It describes **the results of performing the same experiment a large number of times**. \n",
    "\n",
    "> According to this law, **the average of the results obtained from a larger number of trials should be close to the expected value, the theoretical average value**, and it will tend to become closer to the expected value as more trials as performed"
   ]
  },
  {
   "cell_type": "code",
   "execution_count": 3,
   "id": "3b77d7e4",
   "metadata": {},
   "outputs": [],
   "source": [
    "import numpy as np\n",
    "import matplotlib.pyplot as plt"
   ]
  },
  {
   "cell_type": "markdown",
   "id": "dc12b1df",
   "metadata": {},
   "source": [
    "## 🎲 Rolling a dice"
   ]
  },
  {
   "cell_type": "markdown",
   "id": "3aed02a7",
   "metadata": {},
   "source": [
    "🎲 Rolling a dice is a random experiment with 6 possible outcomes : 1, 2, 3, 4, 5, 6.\n",
    "\n",
    "🤔 How can I roll a dice in a Jupyter Notebook ?\n",
    "\n",
    "👉 [numpy.random.randint](https://numpy.org/doc/stable/reference/random/generated/numpy.random.randint.html) returns a random integer between `low` (inclusive) and `high` (exclusive)"
   ]
  },
  {
   "cell_type": "code",
   "execution_count": 4,
   "id": "57cbe7b5",
   "metadata": {},
   "outputs": [
    {
     "data": {
      "text/plain": [
       "6"
      ]
     },
     "execution_count": 4,
     "metadata": {},
     "output_type": "execute_result"
    }
   ],
   "source": [
    "# Run this cell multiple times\n",
    "np.random.randint(1,6+1)"
   ]
  },
  {
   "cell_type": "markdown",
   "id": "c3246d2a",
   "metadata": {},
   "source": [
    "* Everytime you run this cell, you are throwing a dice and the outcome if this experiment is totally random (1, 2, 3, 4, 5 or 6), we simply call it a **`random experiment`**.\n",
    "* ❓How would you roll 3 dices simultaneously. Read the [numpy.random.randint](https://numpy.org/doc/stable/reference/random/generated/numpy.random.randint.html) docs and roll these three dice. ❓"
   ]
  },
  {
   "cell_type": "code",
   "execution_count": 28,
   "id": "9d369ff3",
   "metadata": {
    "tags": [
     "challengify"
    ]
   },
   "outputs": [
    {
     "data": {
      "text/plain": [
       "array([3, 1, 5])"
      ]
     },
     "execution_count": 28,
     "metadata": {},
     "output_type": "execute_result"
    }
   ],
   "source": [
    "\n",
    "np.random.randint(1,7,3)"
   ]
  },
  {
   "cell_type": "markdown",
   "id": "2ff81726",
   "metadata": {},
   "source": [
    "🚀 So now, let's roll our dice `n = 20` times and compute the average outcome. Store the results in an `outcomes` variable and the average of these outcomes in an `average_outcome` variable."
   ]
  },
  {
   "cell_type": "code",
   "execution_count": 39,
   "id": "6abd79b7",
   "metadata": {
    "tags": [
     "challengify"
    ]
   },
   "outputs": [
    {
     "name": "stdout",
     "output_type": "stream",
     "text": [
      "3.1\n"
     ]
    }
   ],
   "source": [
    "n=20\n",
    "#np.random.randint(1,7,20)\n",
    "outcomes = np.random.randint(1,7,20)\n",
    "#average = sum(outcomes) /n\n",
    "#print(average)\n",
    "average_outcome = np.mean(outcomes)\n",
    "print(average_outcome)\n"
   ]
  },
  {
   "cell_type": "markdown",
   "id": "cce0c9ce",
   "metadata": {},
   "source": [
    "🤔 What average value did you expect ? Store it in a `expected_value` variable."
   ]
  },
  {
   "cell_type": "code",
   "execution_count": 16,
   "id": "7ed4284d",
   "metadata": {
    "tags": [
     "challengify"
    ]
   },
   "outputs": [
    {
     "name": "stdout",
     "output_type": "stream",
     "text": [
      "Expected value of rolling  3.5\n"
     ]
    }
   ],
   "source": [
    "expected_value = (1 + 2 + 3 + 4 + 5 + 6) / 6\n",
    "print (expected_value)"
   ]
  },
  {
   "cell_type": "code",
   "execution_count": 40,
   "id": "24e34bac",
   "metadata": {},
   "outputs": [
    {
     "name": "stdout",
     "output_type": "stream",
     "text": [
      "\n",
      "\u001b[1m============================= test session starts ==============================\u001b[0m\n",
      "platform linux -- Python 3.10.6, pytest-7.1.3, pluggy-1.0.0 -- /home/inma/.pyenv/versions/lewagon/bin/python3\n",
      "cachedir: .pytest_cache\n",
      "rootdir: /home/inma/code/InmaVerdu/data-law-of-large-numbers/tests\n",
      "plugins: anyio-3.6.2, asyncio-0.19.0\n",
      "asyncio: mode=strict\n",
      "\u001b[1mcollecting ... \u001b[0mcollected 1 item\n",
      "\n",
      "test_expected_value_dice.py::TestExpectedValueDice::test_expected_value_dice \u001b[32mPASSED\u001b[0m\u001b[32m [100%]\u001b[0m\n",
      "\n",
      "\u001b[32m============================== \u001b[32m\u001b[1m1 passed\u001b[0m\u001b[32m in 0.02s\u001b[0m\u001b[32m ===============================\u001b[0m\n",
      "\n",
      "\n",
      "💯 You can commit your code:\n",
      "\n",
      "\u001b[1;32mgit\u001b[39m add tests/expected_value_dice.pickle\n",
      "\n",
      "\u001b[32mgit\u001b[39m commit -m \u001b[33m'Completed expected_value_dice step'\u001b[39m\n",
      "\n",
      "\u001b[32mgit\u001b[39m push origin master\n",
      "\n"
     ]
    }
   ],
   "source": [
    "from nbresult import ChallengeResult\n",
    "\n",
    "result = ChallengeResult('expected_value_dice',\n",
    "    expected_value=expected_value\n",
    ")\n",
    "result.write()\n",
    "print(result.check())"
   ]
  },
  {
   "cell_type": "markdown",
   "id": "db04ba2d",
   "metadata": {},
   "source": [
    "<details>\n",
    "    <summary>Explanations <i>(Take some time to think about the expected average value before untoggling this section!)</i></summary>\n",
    "\n",
    "We can represent the different outcomes of the random experiment \"rolling a dice\" into a table with their respective probabilities.\n",
    "\n",
    "\n",
    "\n",
    "| Possible outcomes | 1   | 2   | 3   | 4   | 5   | 6   | Total |\n",
    "|-------------------|-----|-----|-----|-----|-----|-----|-------|\n",
    "| Probabilities     | 1/6 | 1/6 | 1/6 | 1/6 | 1/6 | 1/6 | 100%  |\n",
    "    \n",
    "The `expected/theoretical average value` can be computed as follows:\n",
    "    \n",
    "\n",
    "$$ \\mathbb{E}[X] = 1 \\times \\frac{1}{6} + 2 \\times \\frac{1}{6} + 3 \\times \\frac{1}{6} + 4 \\times \\frac{1}{6} + 5 \\times \\frac{1}{6} + 6 \\times \\frac{1}{6} = 3.5 $$\n",
    " \n",
    "where `X` denotes the `random outcome` of `rolling a dice`.\n",
    "\n",
    "👉 We say that `X` is a `random variable`\n",
    "\n",
    "</details>\n",
    "\n",
    "--- \n",
    "\n",
    "🔥 Let's verify the Law of Large Numbers for this 🎲 rolling a dice experiment.\n",
    "\n",
    "***Questions :***\n",
    "\n",
    "👉 Play with the number of trials and compute the associated average outcome.\n",
    "\n",
    "🎨 Plot the average outcome vs. the number of trials."
   ]
  },
  {
   "cell_type": "code",
   "execution_count": 26,
   "id": "a27407fd",
   "metadata": {
    "tags": [
     "challengify"
    ]
   },
   "outputs": [
    {
     "ename": "NameError",
     "evalue": "name 'outcomes' is not defined",
     "output_type": "error",
     "traceback": [
      "\u001b[0;31m---------------------------------------------------------------------------\u001b[0m",
      "\u001b[0;31mNameError\u001b[0m                                 Traceback (most recent call last)",
      "Cell \u001b[0;32mIn [26], line 1\u001b[0m\n\u001b[0;32m----> 1\u001b[0m average_outcome \u001b[38;5;241m=\u001b[39m \u001b[38;5;28msum\u001b[39m(\u001b[43moutcomes\u001b[49m) \u001b[38;5;241m/\u001b[39m num_rolls\n\u001b[1;32m      2\u001b[0m \u001b[38;5;28mprint\u001b[39m(average_outcome)\n",
      "\u001b[0;31mNameError\u001b[0m: name 'outcomes' is not defined"
     ]
    }
   ],
   "source": [
    "np.random.randint(1,7)\n",
    "average_outcome = sum(outcomes) / num_rolls\n",
    "\n",
    "print(average_outcome)"
   ]
  },
  {
   "cell_type": "code",
   "execution_count": null,
   "id": "09293736",
   "metadata": {},
   "outputs": [],
   "source": []
  },
  {
   "cell_type": "markdown",
   "id": "f6217347",
   "metadata": {},
   "source": [
    "🎉 We can visually notice that the `empirical mean` $ \\bar{X_n} = \\frac{X_1 + X_2 + ... + X_{n-1} + X_n}{n}$ `converges towards the expected value` $ \\mu = 3.5 $ as the *number of trials n increases* !"
   ]
  },
  {
   "cell_type": "markdown",
   "id": "7217b8b5",
   "metadata": {},
   "source": [
    "## 🪙 Tossing a coin "
   ]
  },
  {
   "cell_type": "markdown",
   "id": "b6c9c468",
   "metadata": {},
   "source": [
    "### One time"
   ]
  },
  {
   "cell_type": "markdown",
   "id": "77906bc8",
   "metadata": {},
   "source": [
    "👉 Let's run the same experiment with toss a coin instead.\n",
    "\n",
    "* The outcomes are now 0 and 1.\n",
    "* If you run the experiment 100 times, most likely you will have approximately 50 heads and 50 tails.\n",
    "* Let's define \"head\" as a successful experiment and $p$ as the probability of having a head. Intuitively, $ p = \\frac{1}{2} = 0.5 = 50 \\%$\n",
    "\n",
    "🤓 A random experiment with two possibles outcomes `success/failure`and $p$ as the `probability of success` is said to follow a **`Bernoulli distribution`** with parameter `p` $ \\in [0,1] $\n",
    "\n",
    "🔥 Let's verify the `Law of Large Numbers` for this `tossing a coin` experiment.\n",
    "\n",
    "***Questions :***\n",
    "\n",
    "👉 `Play with the number of trials in the cell below` and visualize the associated plot of average outcome vs. the number of trials."
   ]
  },
  {
   "cell_type": "code",
   "execution_count": null,
   "id": "14a41a81",
   "metadata": {},
   "outputs": [],
   "source": [
    "number_of_trials = 500 # play this this number\n",
    "p = 0.5 # expected value of the coin"
   ]
  },
  {
   "cell_type": "code",
   "execution_count": null,
   "id": "d66fd46f",
   "metadata": {},
   "outputs": [],
   "source": [
    "#############################################\n",
    "#     playing with the number of trials     #\n",
    "#############################################\n",
    "trials = np.arange(1,number_of_trials + 1,1)\n",
    "results = [np.mean(np.random.randint(0,1+1, n)) for n in trials]\n",
    "    \n",
    "#############################################\n",
    "#            plotting the results           #\n",
    "#############################################\n",
    "        \n",
    "plt.figure(figsize=(20,10))\n",
    "\n",
    "plt.plot(results,label='empirical means')\n",
    "plt.plot([p]*len(results),label='p', color = \"red\")\n",
    "\n",
    "plt.title('Law of Large Numbers : The empirical mean converges towards the theoretical mean')\n",
    "plt.xlabel('Number of trials')\n",
    "plt.ylabel('Theoretical mean')\n",
    "\n",
    "plt.legend(loc='best')\n",
    "plt.show()"
   ]
  },
  {
   "cell_type": "markdown",
   "id": "67070571",
   "metadata": {},
   "source": [
    "🎉 We can visually notice that the `empirical mean` $ \\bar{X_n} = \\frac{X_1 + X_2 + ... + X_{n-1} + X_n}{n}$ `converges towards the expected value` $ \\mu = 0.5 $ as the *number of trials n increases* !"
   ]
  },
  {
   "cell_type": "markdown",
   "id": "93ac2427",
   "metadata": {},
   "source": [
    "### Multiple times"
   ]
  },
  {
   "cell_type": "markdown",
   "id": "c2a3d90c",
   "metadata": {},
   "source": [
    "👉 Here, ***ONE experiment*** consists of :\n",
    "* tossing a coin `n_times`\n",
    "* every trial has a `probability p` of success.\n",
    "\n",
    "👉 After running one experiment, we can count the `number of successes` between `no success` and `n_times successes`.\n",
    "\n",
    "📚 A random experiment with:\n",
    "- two possible outcomes `success/failure`\n",
    "- `p` $ \\in [0,1] $ as the `probability of success`\n",
    "- `n` $ \\in \\mathbb{N} $ trials\n",
    "\n",
    "is said to follow a **`Binomial distribution (n,p)`** distribution.\n",
    "\n",
    "😉 If you think about it, **`a Binomial distribution (n,p) is the sum of n independent Bernoulli(p) random variables`** !\n",
    "\n",
    "---\n",
    "\n",
    "❓ In the following cell, use [numpy.random.binomial](https://numpy.org/doc/stable/reference/random/generated/numpy.random.binomial.html) to simulate **ONE Binomial Experience** in Python with:\n",
    "- $p = 0.7$ (imagine that your coin is biased)\n",
    "- $n = 10$ trials\n",
    "\n"
   ]
  },
  {
   "cell_type": "code",
   "execution_count": null,
   "id": "0813395d",
   "metadata": {},
   "outputs": [],
   "source": [
    "# Run this cell multiple times \n",
    "# for one realisation of a Binomial Experience\n",
    "\n",
    "n = 10  # tossing a coin n times\n",
    "p = 0.7 # probability of success defined by p\n",
    "\n",
    "pass  # YOUR CODE HERE"
   ]
  },
  {
   "cell_type": "markdown",
   "id": "d1e9e747",
   "metadata": {},
   "source": [
    "❓ Now, repeat this experiment $N = 20$ times and store the N results in a list\n",
    "\n",
    "<details>\n",
    "    <summary><i>Hint</i></summary>\n",
    "    \n",
    "Run the cell multiple times and observe the randomness...!\n",
    "    \n",
    "</details>"
   ]
  },
  {
   "cell_type": "code",
   "execution_count": null,
   "id": "17df4ef8",
   "metadata": {},
   "outputs": [],
   "source": [
    "# Run this cell multiple times \n",
    "# for N realisations of a Binomial Experience\n",
    "\n",
    "N = 20  # number of experiment\n",
    "n = 10  # tossing a coin n times\n",
    "p = 0.7 # probability of success defined by p\n",
    "\n",
    "pass  # YOUR CODE HERE"
   ]
  },
  {
   "cell_type": "markdown",
   "id": "9465bd7b",
   "metadata": {},
   "source": [
    "🔥 Let's verify the `Law of Large Numbers` for this `tossing a coin multiple times` experiment\n",
    "\n",
    "***Questions:***\n",
    "\n",
    "🤔 What average value did you expect ? Store into a `expected_value_coins` variable."
   ]
  },
  {
   "cell_type": "code",
   "execution_count": null,
   "id": "aba02c41",
   "metadata": {
    "tags": []
   },
   "outputs": [],
   "source": [
    "expected_value_coins = None"
   ]
  },
  {
   "cell_type": "code",
   "execution_count": null,
   "id": "d3c5cb85",
   "metadata": {},
   "outputs": [],
   "source": [
    "from nbresult import ChallengeResult\n",
    "\n",
    "result = ChallengeResult('expected_value_coins',\n",
    "    expected_value_coins=expected_value_coins\n",
    ")\n",
    "result.write()\n",
    "print(result.check())"
   ]
  },
  {
   "cell_type": "markdown",
   "id": "2898cac0",
   "metadata": {},
   "source": [
    "<details>\n",
    "    <summary>Explanations</summary>\n",
    "\n",
    "💡 For one Binomial Experience with $n = 10$ tosses and $p = 0.7$, you would expect $ n \\times p = 10 \\times 0.7 = 7$ successes.\n",
    "    \n",
    "📚 This result holds for any `Binomial(n,p)` random experiment!\n",
    "    \n",
    "$$ \\mathbb{E}[X] = np $$\n",
    "    \n",
    "</details>"
   ]
  },
  {
   "cell_type": "markdown",
   "id": "ecd1b043",
   "metadata": {},
   "source": [
    "📈 Vizualize these results below"
   ]
  },
  {
   "cell_type": "code",
   "execution_count": null,
   "id": "ac0544da",
   "metadata": {
    "tags": []
   },
   "outputs": [],
   "source": [
    "#############################################\n",
    "#     playing with the number of trials     #\n",
    "#############################################\n",
    "p = 0.7\n",
    "n = 10\n",
    "N = 1000\n",
    "\n",
    "trials = np.arange(1,N + 1,1)\n",
    "results = [np.mean(np.random.binomial(n = n,p = p, size = N)) for N in trials]\n",
    "    \n",
    "#############################################\n",
    "#            plotting the results           #\n",
    "#############################################\n",
    "    \n",
    "    \n",
    "plt.figure(figsize=(20,10))\n",
    "\n",
    "plt.plot(results,label='empirical means')\n",
    "plt.plot([expected_value_coins]*len(results),label='mu', color = \"red\")\n",
    "\n",
    "plt.title('Law of Large Numbers : The empirical mean converges towards the theoretical mean')\n",
    "plt.xlabel('Number of trials')\n",
    "plt.ylabel('Theoretical mean')\n",
    "\n",
    "plt.legend(loc='best')\n",
    "plt.show()"
   ]
  },
  {
   "cell_type": "markdown",
   "id": "4adff793",
   "metadata": {},
   "source": [
    "🏁 Congratulations !!!\n",
    "\n",
    "🔥 You've mastered one of the most fundamental theorems of `Probability Theory`, the `Law of Large Numbers`.\n",
    "\n",
    "💾 Do not forget to `add/commit/push` your challenge !\n",
    "\n",
    "---\n",
    "\n",
    "***Additional ressources***\n",
    "\n",
    "📺 [Law of Large Numbers - Explained and Visualized](https://www.youtube.com/watch?v=MntX3zWNWec) by Jeremy Blitz-Jones (4 min 11 sec)\n",
    "\n",
    "🤓 Only for math nerds and completely overkill/unnecessary for data scientists:\n",
    "- [ProbabilityCourse.com - LLN](https://www.probabilitycourse.com/chapter7/7_1_1_law_of_large_numbers.php)\n",
    "- [Oxford University - LLN](http://www.stats.ox.ac.uk/~winkel/bs3a07l9-10.pdf)\n"
   ]
  },
  {
   "cell_type": "code",
   "execution_count": null,
   "id": "4c38d9d5",
   "metadata": {},
   "outputs": [],
   "source": []
  }
 ],
 "metadata": {
  "kernelspec": {
   "display_name": "Python 3 (ipykernel)",
   "language": "python",
   "name": "python3"
  },
  "language_info": {
   "codemirror_mode": {
    "name": "ipython",
    "version": 3
   },
   "file_extension": ".py",
   "mimetype": "text/x-python",
   "name": "python",
   "nbconvert_exporter": "python",
   "pygments_lexer": "ipython3",
   "version": "3.10.6"
  },
  "toc": {
   "base_numbering": 1,
   "nav_menu": {},
   "number_sections": true,
   "sideBar": true,
   "skip_h1_title": false,
   "title_cell": "Table of Contents",
   "title_sidebar": "Contents",
   "toc_cell": false,
   "toc_position": {},
   "toc_section_display": true,
   "toc_window_display": false
  }
 },
 "nbformat": 4,
 "nbformat_minor": 5
}
